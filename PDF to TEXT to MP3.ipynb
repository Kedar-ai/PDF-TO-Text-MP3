{
 "cells": [
  {
   "cell_type": "code",
   "execution_count": 1,
   "id": "f5cfb0dd-5727-49ee-9fb0-1cc5214f5b9c",
   "metadata": {},
   "outputs": [],
   "source": [
    "# !pip3 install pdfplumber\n",
    "# !pip install gtts\n",
    "# !pip install pyttsx3\n",
    "import pyttsx3\n",
    "import os\n",
    "import pdfplumber\n",
    "from gtts import gTTS"
   ]
  },
  {
   "cell_type": "code",
   "execution_count": 2,
   "id": "2ca02c6c-d5e3-405b-9256-8ec3bb125c53",
   "metadata": {},
   "outputs": [],
   "source": [
    "directory = r'/home/kedar/PycharmProjects/pythonProject/text_to_speech' ## directory path "
   ]
  },
  {
   "cell_type": "code",
   "execution_count": 3,
   "id": "de7fb1e6-650b-4617-a771-2733dc26251f",
   "metadata": {},
   "outputs": [
    {
     "name": "stdout",
     "output_type": "stream",
     "text": [
      "\n",
      "Lorde (born 1996) is a New Zealand singer-songwriter known for employing unconventional\n",
      "musical styles and introspective songwriting. She signed with Universal Music Group (UMG)\n",
      "in 2009 and collaborated with producer Joel Little in 2011 to record material. The pair's \n",
      "first collaborative effort, an extended play titled The Love Club, was released by UMG in \n",
      "2013, and its international chart-topping single \"Royals\" helped Lorde rise to prominence. \n",
      "Her debut studio album Pure Heroine followed that year and achieved critical and \n",
      "commercial success. The following year, she curated the soundtrack for the 2014 film The \n",
      "Hunger Games: Mockingjay, Part 1 and recorded several tracks, including the single \n",
      "\"Yellow Flicker Beat\". \n"
     ]
    }
   ],
   "source": [
    "for filename in os.listdir(directory):\n",
    "    if filename.endswith('.pdf'):                ## if pdf then output\n",
    "        fullpath = os.path.join(directory, filename)\n",
    "        #print(fullpath)\n",
    "        all_text = \"\"\n",
    "        with pdfplumber.open(fullpath) as pdf:\n",
    "            for page in pdf.pages:\n",
    "                text = page.extract_text()\n",
    "                #print(text)\n",
    "                all_text += '\\n' + text            ## special character remove \n",
    "        print(all_text)"
   ]
  },
  {
   "cell_type": "code",
   "execution_count": 4,
   "id": "0966c2bf-ad4a-407a-b530-2435457d248d",
   "metadata": {},
   "outputs": [],
   "source": [
    "language = 'en'\n",
    "myobj = gTTS(text=all_text, lang=language, slow=False)\n",
    "myobj.save(\"pdf.mp3\")"
   ]
  },
  {
   "cell_type": "code",
   "execution_count": null,
   "id": "2445871d-ffcd-4c5e-b76e-9271d43b47dd",
   "metadata": {},
   "outputs": [],
   "source": []
  }
 ],
 "metadata": {
  "kernelspec": {
   "display_name": "Python 3 (ipykernel)",
   "language": "python",
   "name": "python3"
  },
  "language_info": {
   "codemirror_mode": {
    "name": "ipython",
    "version": 3
   },
   "file_extension": ".py",
   "mimetype": "text/x-python",
   "name": "python",
   "nbconvert_exporter": "python",
   "pygments_lexer": "ipython3",
   "version": "3.9.7"
  }
 },
 "nbformat": 4,
 "nbformat_minor": 5
}
